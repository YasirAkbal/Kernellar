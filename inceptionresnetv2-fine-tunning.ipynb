{
 "cells": [
  {
   "cell_type": "code",
   "execution_count": 1,
   "metadata": {
    "_cell_guid": "b1076dfc-b9ad-4769-8c92-a6c4dae69d19",
    "_uuid": "8f2839f25d086af736a60e9eeb907d3b93b6e0e5"
   },
   "outputs": [
    {
     "name": "stdout",
     "output_type": "stream",
     "text": [
      "/kaggle/input/dogs-vs-cats/train.zip\n",
      "/kaggle/input/dogs-vs-cats/sampleSubmission.csv\n",
      "/kaggle/input/dogs-vs-cats/test1.zip\n"
     ]
    }
   ],
   "source": [
    "# This Python 3 environment comes with many helpful analytics libraries installed\n",
    "# It is defined by the kaggle/python docker image: https://github.com/kaggle/docker-python\n",
    "# For example, here's several helpful packages to load in \n",
    "\n",
    "import numpy as np # linear algebra\n",
    "import pandas as pd # data processing, CSV file I/O (e.g. pd.read_csv)\n",
    "\n",
    "# Input data files are available in the \"../input/\" directory.\n",
    "# For example, running this (by clicking run or pressing Shift+Enter) will list all files under the input directory\n",
    "\n",
    "import os\n",
    "for dirname, _, filenames in os.walk('/kaggle/input'):\n",
    "    for filename in filenames:\n",
    "        print(os.path.join(dirname, filename))\n",
    "\n",
    "# Any results you write to the current directory are saved as output."
   ]
  },
  {
   "cell_type": "code",
   "execution_count": 2,
   "metadata": {},
   "outputs": [],
   "source": [
    "import os, shutil,zipfile\n",
    "with zipfile.ZipFile('/kaggle/input/dogs-vs-cats/train.zip', 'r') as zip:\n",
    "    zip.extractall()    \n",
    "    zip.close()"
   ]
  },
  {
   "cell_type": "code",
   "execution_count": 3,
   "metadata": {
    "_cell_guid": "79c7e3d0-c299-4dcb-8224-4455121ee9b0",
    "_uuid": "d629ff2d2480ee46fbb7e2d37f6b5fab8052498a"
   },
   "outputs": [
    {
     "name": "stderr",
     "output_type": "stream",
     "text": [
      "Using TensorFlow backend.\n"
     ]
    }
   ],
   "source": [
    "from keras import layers\n",
    "from keras import models\n",
    "from keras import optimizers\n",
    "from keras.applications import InceptionResNetV2\n",
    "from keras.preprocessing import image\n",
    "import os\n",
    "import shutil\n",
    "import numpy as np\n",
    "import pandas as pd\n",
    "import matplotlib.pyplot as plt\n",
    "from keras import Input"
   ]
  },
  {
   "cell_type": "markdown",
   "metadata": {},
   "source": [
    "We are spliting dataset on smaller train,validation and test set"
   ]
  },
  {
   "cell_type": "code",
   "execution_count": 4,
   "metadata": {},
   "outputs": [],
   "source": [
    "#this block is an quotation from the Deep Learning With Python(françois chollet) book.\n",
    "\n",
    "# The path to the directory where the original\n",
    "# dataset was uncompressed\n",
    "original_dataset_dir = '/kaggle/working/train'\n",
    "\n",
    "# The directory where we will\n",
    "# store our smaller dataset\n",
    "base_dir = '/kaggle/working/cats_and_dogs_small'\n",
    "os.mkdir(base_dir)\n",
    "\n",
    "# Directories for our training,\n",
    "# validation and test splits\n",
    "train_dir = os.path.join(base_dir, 'train')\n",
    "os.mkdir(train_dir)\n",
    "validation_dir = os.path.join(base_dir, 'validation')\n",
    "os.mkdir(validation_dir)\n",
    "test_dir = os.path.join(base_dir, 'test')\n",
    "os.mkdir(test_dir)\n",
    "\n",
    "# Directory with our training cat pictures\n",
    "train_cats_dir = os.path.join(train_dir, 'cats')\n",
    "os.mkdir(train_cats_dir)\n",
    "\n",
    "# Directory with our training dog pictures\n",
    "train_dogs_dir = os.path.join(train_dir, 'dogs')\n",
    "os.mkdir(train_dogs_dir)\n",
    "\n",
    "# Directory with our validation cat pictures\n",
    "validation_cats_dir = os.path.join(validation_dir, 'cats')\n",
    "os.mkdir(validation_cats_dir)\n",
    "\n",
    "# Directory with our validation dog pictures\n",
    "validation_dogs_dir = os.path.join(validation_dir, 'dogs')\n",
    "os.mkdir(validation_dogs_dir)\n",
    "\n",
    "# Directory with our validation cat pictures\n",
    "test_cats_dir = os.path.join(test_dir, 'cats')\n",
    "os.mkdir(test_cats_dir)\n",
    "\n",
    "# Directory with our validation dog pictures\n",
    "test_dogs_dir = os.path.join(test_dir, 'dogs')\n",
    "os.mkdir(test_dogs_dir)\n",
    "\n",
    "# Copy first 2500 cat images to train_cats_dir\n",
    "fnames = ['cat.{}.jpg'.format(i) for i in range(2500)]\n",
    "for fname in fnames:\n",
    "    src = os.path.join(original_dataset_dir, fname)\n",
    "    dst = os.path.join(train_cats_dir, fname)\n",
    "    shutil.copyfile(src, dst)\n",
    "\n",
    "# Copy next 1000 cat images to validation_cats_dir\n",
    "fnames = ['cat.{}.jpg'.format(i) for i in range(2500, 3500)]\n",
    "for fname in fnames:\n",
    "    src = os.path.join(original_dataset_dir, fname)\n",
    "    dst = os.path.join(validation_cats_dir, fname)\n",
    "    shutil.copyfile(src, dst)\n",
    "    \n",
    "# Copy next 1500 cat images to test_cats_dir\n",
    "fnames = ['cat.{}.jpg'.format(i) for i in range(3500, 5000)]\n",
    "for fname in fnames:\n",
    "    src = os.path.join(original_dataset_dir, fname)\n",
    "    dst = os.path.join(test_cats_dir, fname)\n",
    "    shutil.copyfile(src, dst)\n",
    "    \n",
    "# Copy first 2500 dog images to train_dogs_dir\n",
    "fnames = ['dog.{}.jpg'.format(i) for i in range(2500)]\n",
    "for fname in fnames:\n",
    "    src = os.path.join(original_dataset_dir, fname)\n",
    "    dst = os.path.join(train_dogs_dir, fname)\n",
    "    shutil.copyfile(src, dst)\n",
    "    \n",
    "# Copy next 1000 dog images to validation_dogs_dir\n",
    "fnames = ['dog.{}.jpg'.format(i) for i in range(2500, 3500)]\n",
    "for fname in fnames:\n",
    "    src = os.path.join(original_dataset_dir, fname)\n",
    "    dst = os.path.join(validation_dogs_dir, fname)\n",
    "    shutil.copyfile(src, dst)\n",
    "    \n",
    "# Copy next 1500 dog images to test_dogs_dir\n",
    "fnames = ['dog.{}.jpg'.format(i) for i in range(3500, 5000)]\n",
    "for fname in fnames:\n",
    "    src = os.path.join(original_dataset_dir, fname)\n",
    "    dst = os.path.join(test_dogs_dir, fname)\n",
    "    shutil.copyfile(src, dst)"
   ]
  },
  {
   "cell_type": "code",
   "execution_count": 5,
   "metadata": {},
   "outputs": [],
   "source": [
    "size = (172,172,3) #resized images size\n",
    "batch_size = 160 "
   ]
  },
  {
   "cell_type": "markdown",
   "metadata": {},
   "source": [
    "Implementing data generator. We are using data augmentation on train test."
   ]
  },
  {
   "cell_type": "code",
   "execution_count": 6,
   "metadata": {},
   "outputs": [],
   "source": [
    "#data augmentation and normalize images with using ImageDataGenerator\n",
    "train_datagen = image.ImageDataGenerator(rescale=1./255,\n",
    "                                         rotation_range=40,\n",
    "                                         width_shift_range=0.2,\n",
    "                                         height_shift_range=0.2,\n",
    "                                         shear_range=0.2,\n",
    "                                         zoom_range=0.2,\n",
    "                                         horizontal_flip=True,\n",
    "                                         fill_mode=\"nearest\")\n",
    "\n",
    "valid_datagen = image.ImageDataGenerator(rescale=1./255)\n",
    "\n",
    "test_datagen = image.ImageDataGenerator(rescale=1./255)"
   ]
  },
  {
   "cell_type": "code",
   "execution_count": 7,
   "metadata": {},
   "outputs": [
    {
     "name": "stdout",
     "output_type": "stream",
     "text": [
      "Found 5000 images belonging to 2 classes.\n",
      "Found 2000 images belonging to 2 classes.\n",
      "Found 3000 images belonging to 2 classes.\n"
     ]
    }
   ],
   "source": [
    "train_generator = train_datagen.flow_from_directory(\"/kaggle/working/cats_and_dogs_small/train\",\n",
    "                                                    target_size=(172,172),\n",
    "                                                    batch_size=batch_size,class_mode=\"binary\")\n",
    "validation_generator = valid_datagen.flow_from_directory(\"/kaggle/working/cats_and_dogs_small/validation\",\n",
    "                                                        target_size=(172,172),\n",
    "                                                         batch_size=batch_size,class_mode=\"binary\")\n",
    "test_generator = test_datagen.flow_from_directory(\"/kaggle/working/cats_and_dogs_small/test\",\n",
    "                                                        target_size=(172,172),\n",
    "                                                  batch_size=batch_size,class_mode=\"binary\")"
   ]
  },
  {
   "cell_type": "markdown",
   "metadata": {},
   "source": [
    "# Feature Extraction\n",
    "\n",
    "Step 1 - Load pre-trained model and freeze\n",
    "\n",
    "Step 2 - Create new model and add the frozen pretrained model in this model\n",
    "\n",
    "Step 3 - Add dense layers\n",
    "\n",
    "Step 4 - Train Model"
   ]
  },
  {
   "cell_type": "code",
   "execution_count": 8,
   "metadata": {},
   "outputs": [
    {
     "name": "stdout",
     "output_type": "stream",
     "text": [
      "Downloading data from https://github.com/fchollet/deep-learning-models/releases/download/v0.7/inception_resnet_v2_weights_tf_dim_ordering_tf_kernels_notop.h5\n",
      "219062272/219055592 [==============================] - 5s 0us/step\n"
     ]
    }
   ],
   "source": [
    "input_tensor = Input(shape=size)\n",
    "resnet = InceptionResNetV2(weights=\"imagenet\",include_top=False,\n",
    "                           input_tensor=input_tensor) #load pretrained model"
   ]
  },
  {
   "cell_type": "markdown",
   "metadata": {},
   "source": [
    "# Load Pre-trained Model\n",
    "\n",
    "* We are select include_top = False. Because we are don't want dense layers.\n",
    "\n",
    "* This Model coming with trained weights on imagenet"
   ]
  },
  {
   "cell_type": "code",
   "execution_count": 9,
   "metadata": {},
   "outputs": [],
   "source": [
    "#resnet.summary() "
   ]
  },
  {
   "cell_type": "code",
   "execution_count": 10,
   "metadata": {},
   "outputs": [],
   "source": [
    "for i in resnet.layers: #freeze pretrained model\n",
    "    i.trainable = False "
   ]
  },
  {
   "cell_type": "code",
   "execution_count": 11,
   "metadata": {},
   "outputs": [],
   "source": [
    "#create new model and add pretrained model in this model\n",
    "x = resnet.output\n",
    "x = layers.GlobalMaxPooling2D(data_format='channels_last')(x)\n",
    "x = layers.Dropout(0.30)(x)\n",
    "x = layers.Dense(256,activation=\"relu\")(x)\n",
    "x = layers.Dropout(0.30)(x)\n",
    "x = layers.Dense(256,activation=\"relu\")(x)\n",
    "x = layers.Dense(1,activation=\"sigmoid\")(x)\n",
    "model = models.Model(resnet.input,x)"
   ]
  },
  {
   "cell_type": "code",
   "execution_count": 12,
   "metadata": {},
   "outputs": [],
   "source": [
    "#model.summary()#now we have only 459,521 trainable params"
   ]
  },
  {
   "cell_type": "code",
   "execution_count": 13,
   "metadata": {},
   "outputs": [],
   "source": [
    "model.compile(optimizer=\"rmsprop\",loss=\"binary_crossentropy\",metrics=[\"acc\"])"
   ]
  },
  {
   "cell_type": "code",
   "execution_count": 14,
   "metadata": {},
   "outputs": [
    {
     "name": "stdout",
     "output_type": "stream",
     "text": [
      "Epoch 1/12\n",
      "31/31 [==============================] - 69s 2s/step - loss: 1.1502 - acc: 0.6417 - val_loss: 0.1144 - val_acc: 0.9651\n",
      "Epoch 2/12\n",
      "31/31 [==============================] - 52s 2s/step - loss: 0.5316 - acc: 0.7192 - val_loss: 0.0708 - val_acc: 0.9630\n",
      "Epoch 3/12\n",
      "31/31 [==============================] - 51s 2s/step - loss: 0.4382 - acc: 0.8008 - val_loss: 0.1065 - val_acc: 0.9674\n",
      "Epoch 4/12\n",
      "31/31 [==============================] - 51s 2s/step - loss: 0.3947 - acc: 0.8054 - val_loss: 0.0615 - val_acc: 0.9696\n",
      "Epoch 5/12\n",
      "31/31 [==============================] - 49s 2s/step - loss: 0.3876 - acc: 0.8208 - val_loss: 0.1201 - val_acc: 0.9386\n",
      "Epoch 6/12\n",
      "31/31 [==============================] - 50s 2s/step - loss: 0.3637 - acc: 0.8345 - val_loss: 0.0944 - val_acc: 0.9658\n",
      "Epoch 7/12\n",
      "31/31 [==============================] - 49s 2s/step - loss: 0.3559 - acc: 0.8312 - val_loss: 0.1786 - val_acc: 0.9625\n",
      "Epoch 8/12\n",
      "31/31 [==============================] - 51s 2s/step - loss: 0.3196 - acc: 0.8532 - val_loss: 0.1329 - val_acc: 0.9707\n",
      "Epoch 9/12\n",
      "31/31 [==============================] - 50s 2s/step - loss: 0.3459 - acc: 0.8308 - val_loss: 0.1746 - val_acc: 0.9587\n",
      "Epoch 10/12\n",
      "31/31 [==============================] - 50s 2s/step - loss: 0.3295 - acc: 0.8473 - val_loss: 0.2764 - val_acc: 0.9478\n",
      "Epoch 11/12\n",
      "31/31 [==============================] - 49s 2s/step - loss: 0.3223 - acc: 0.8392 - val_loss: 0.2652 - val_acc: 0.9538\n",
      "Epoch 12/12\n",
      "31/31 [==============================] - 50s 2s/step - loss: 0.3324 - acc: 0.8455 - val_loss: 0.0647 - val_acc: 0.9750\n"
     ]
    }
   ],
   "source": [
    "history = model.fit_generator(train_generator,\n",
    "                        steps_per_epoch=train_generator.samples//batch_size,epochs=12,\n",
    "                        validation_data=validation_generator,\n",
    "                        validation_steps=validation_generator.samples//batch_size)"
   ]
  },
  {
   "cell_type": "code",
   "execution_count": 15,
   "metadata": {},
   "outputs": [],
   "source": [
    "epochs = range(1,len(history.history[\"acc\"])+1)"
   ]
  },
  {
   "cell_type": "code",
   "execution_count": 16,
   "metadata": {},
   "outputs": [
    {
     "data": {
      "image/png": "[encoded data removed]",
      "text/plain": [
       "<Figure size 432x288 with 1 Axes>"
      ]
     },
     "metadata": {
      "needs_background": "light"
     },
     "output_type": "display_data"
    },
    {
     "data": {
      "image/png": "[encoded data removed]",
      "text/plain": [
       "<Figure size 432x288 with 1 Axes>"
      ]
     },
     "metadata": {
      "needs_background": "light"
     },
     "output_type": "display_data"
    }
   ],
   "source": [
    "plt.plot(epochs,history.history[\"acc\"],label=\"Train Accuracy\")\n",
    "plt.plot(epochs,history.history[\"val_acc\"],label=\"Validation Accuracy\")\n",
    "plt.xlabel(\"Epochs\")\n",
    "plt.ylabel(\"Accuracy\")\n",
    "plt.title(\"Accuracy Comp\")\n",
    "plt.legend()\n",
    "plt.show()\n",
    "\n",
    "plt.plot(epochs,history.history[\"loss\"],label=\"Train Loss\")\n",
    "plt.plot(epochs,history.history[\"val_loss\"],label=\"Validation Loss\")\n",
    "plt.xlabel(\"Epochs\")\n",
    "plt.ylabel(\"Loss\")\n",
    "plt.title(\"Loss Comp\")\n",
    "plt.legend()\n",
    "plt.show()\n"
   ]
  },
  {
   "cell_type": "code",
   "execution_count": 17,
   "metadata": {},
   "outputs": [],
   "source": [
    "loss,acc = model.evaluate_generator(generator=test_generator,\n",
    "                                steps=test_generator.samples//batch_size)"
   ]
  },
  {
   "cell_type": "code",
   "execution_count": 18,
   "metadata": {},
   "outputs": [
    {
     "name": "stdout",
     "output_type": "stream",
     "text": [
      "Test Accuracy = 0.9791666865348816\n"
     ]
    }
   ],
   "source": [
    "print(\"Test Accuracy =\",acc)"
   ]
  },
  {
   "cell_type": "markdown",
   "metadata": {},
   "source": [
    "# Fine Tunning\n",
    "\n",
    "Step 1 - Take the Feature Extraction(We are did this step)\n",
    "\n",
    "Step 2 - Select layers to Fine Tunning\n",
    "\n",
    "Step 3 - Train Model\n"
   ]
  },
  {
   "cell_type": "code",
   "execution_count": 19,
   "metadata": {},
   "outputs": [],
   "source": [
    "liste = [x.name for x in model.layers]"
   ]
  },
  {
   "cell_type": "code",
   "execution_count": 20,
   "metadata": {},
   "outputs": [],
   "source": [
    "#select after blocks block8_10_conv to fine tunnig\n",
    "for i in range(liste.index(\"block8_10_conv\"),len(model.layers)): \n",
    "    model.layers[i].trainable = True #unfreeze the layers"
   ]
  },
  {
   "cell_type": "code",
   "execution_count": 21,
   "metadata": {},
   "outputs": [],
   "source": [
    "#compile model with very low learning rate\n",
    "model.compile(optimizer=optimizers.RMSprop(learning_rate=0.00005),\n",
    "              loss=\"binary_crossentropy\",metrics=[\"acc\"])"
   ]
  },
  {
   "cell_type": "code",
   "execution_count": 22,
   "metadata": {},
   "outputs": [],
   "source": [
    "#model.summary() #now we have 4,589,857 trainable params"
   ]
  },
  {
   "cell_type": "code",
   "execution_count": 23,
   "metadata": {},
   "outputs": [
    {
     "name": "stdout",
     "output_type": "stream",
     "text": [
      "Epoch 1/15\n",
      "31/31 [==============================] - 68s 2s/step - loss: 0.2540 - acc: 0.8868 - val_loss: 0.2689 - val_acc: 0.9734\n",
      "Epoch 2/15\n",
      "31/31 [==============================] - 52s 2s/step - loss: 0.2254 - acc: 0.9027 - val_loss: 0.1312 - val_acc: 0.9739\n",
      "Epoch 3/15\n",
      "31/31 [==============================] - 52s 2s/step - loss: 0.2162 - acc: 0.9093 - val_loss: 0.1374 - val_acc: 0.9793\n",
      "Epoch 4/15\n",
      "31/31 [==============================] - 52s 2s/step - loss: 0.2047 - acc: 0.9109 - val_loss: 0.0527 - val_acc: 0.9712\n",
      "Epoch 5/15\n",
      "31/31 [==============================] - 49s 2s/step - loss: 0.2020 - acc: 0.9142 - val_loss: 0.1287 - val_acc: 0.9755\n",
      "Epoch 6/15\n",
      "31/31 [==============================] - 50s 2s/step - loss: 0.1950 - acc: 0.9155 - val_loss: 0.1221 - val_acc: 0.9734\n",
      "Epoch 7/15\n",
      "31/31 [==============================] - 49s 2s/step - loss: 0.1856 - acc: 0.9197 - val_loss: 0.0705 - val_acc: 0.9745\n",
      "Epoch 8/15\n",
      "31/31 [==============================] - 51s 2s/step - loss: 0.1803 - acc: 0.9230 - val_loss: 0.1955 - val_acc: 0.9717\n",
      "Epoch 9/15\n",
      "31/31 [==============================] - 49s 2s/step - loss: 0.1760 - acc: 0.9252 - val_loss: 0.0808 - val_acc: 0.9777\n",
      "Epoch 10/15\n",
      "31/31 [==============================] - 51s 2s/step - loss: 0.1715 - acc: 0.9254 - val_loss: 0.3853 - val_acc: 0.9690\n",
      "Epoch 11/15\n",
      "31/31 [==============================] - 49s 2s/step - loss: 0.1603 - acc: 0.9347 - val_loss: 0.0823 - val_acc: 0.9842\n",
      "Epoch 12/15\n",
      "31/31 [==============================] - 50s 2s/step - loss: 0.1669 - acc: 0.9322 - val_loss: 0.0628 - val_acc: 0.9766\n",
      "Epoch 13/15\n",
      "31/31 [==============================] - 50s 2s/step - loss: 0.1726 - acc: 0.9264 - val_loss: 0.0903 - val_acc: 0.9750\n",
      "Epoch 14/15\n",
      "31/31 [==============================] - 52s 2s/step - loss: 0.1629 - acc: 0.9308 - val_loss: 0.2721 - val_acc: 0.9745\n",
      "Epoch 15/15\n",
      "31/31 [==============================] - 52s 2s/step - loss: 0.1670 - acc: 0.9298 - val_loss: 0.2813 - val_acc: 0.9783\n"
     ]
    }
   ],
   "source": [
    "history = model.fit_generator(train_generator,steps_per_epoch=train_generator.samples//batch_size,\n",
    "                              epochs=15,validation_data=validation_generator,\n",
    "                              validation_steps=validation_generator.samples//batch_size)"
   ]
  },
  {
   "cell_type": "code",
   "execution_count": 24,
   "metadata": {},
   "outputs": [],
   "source": [
    "epochs = range(1,len(history.history[\"acc\"])+1)"
   ]
  },
  {
   "cell_type": "code",
   "execution_count": 25,
   "metadata": {},
   "outputs": [
    {
     "data": {
      "image/png": "[encoded data removed]",
      "text/plain": [
       "<Figure size 432x288 with 1 Axes>"
      ]
     },
     "metadata": {
      "needs_background": "light"
     },
     "output_type": "display_data"
    },
    {
     "data": {
      "image/png": "[encoded data removed]",
      "text/plain": [
       "<Figure size 432x288 with 1 Axes>"
      ]
     },
     "metadata": {
      "needs_background": "light"
     },
     "output_type": "display_data"
    }
   ],
   "source": [
    "plt.plot(epochs,history.history[\"acc\"],label=\"Train Accuracy\")\n",
    "plt.plot(epochs,history.history[\"val_acc\"],label=\"Validation Accuracy\")\n",
    "plt.xlabel(\"Epochs\")\n",
    "plt.ylabel(\"Accuracy\")\n",
    "plt.title(\"Accuracy Comp\")\n",
    "plt.legend()\n",
    "plt.show()\n",
    "\n",
    "plt.plot(epochs,history.history[\"loss\"],label=\"Train Loss\")\n",
    "plt.plot(epochs,history.history[\"val_loss\"],label=\"Validation Loss\")\n",
    "plt.xlabel(\"Epochs\")\n",
    "plt.ylabel(\"Loss\")\n",
    "plt.title(\"Loss Comp\")\n",
    "plt.legend()\n",
    "plt.show()"
   ]
  },
  {
   "cell_type": "code",
   "execution_count": 26,
   "metadata": {},
   "outputs": [],
   "source": [
    "loss,acc = model.evaluate_generator(generator=test_generator,\n",
    "                                    steps=test_generator.samples//batch_size)"
   ]
  },
  {
   "cell_type": "code",
   "execution_count": 27,
   "metadata": {},
   "outputs": [
    {
     "name": "stdout",
     "output_type": "stream",
     "text": [
      "Test Accuracy = 0.984375\n"
     ]
    }
   ],
   "source": [
    "print(\"Test Accuracy =\",acc)"
   ]
  }
 ],
 "metadata": {
  "kernelspec": {
   "display_name": "Python 3",
   "language": "python",
   "name": "python3"
  },
  "language_info": {
   "codemirror_mode": {
    "name": "ipython",
    "version": 3
   },
   "file_extension": ".py",
   "mimetype": "text/x-python",
   "name": "python",
   "nbconvert_exporter": "python",
   "pygments_lexer": "ipython3",
   "version": "3.6.6"
  }
 },
 "nbformat": 4,
 "nbformat_minor": 4
}
