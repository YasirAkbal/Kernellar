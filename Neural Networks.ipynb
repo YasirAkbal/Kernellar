{
 "cells": [
  {
   "cell_type": "code",
   "execution_count": 1,
   "metadata": {},
   "outputs": [],
   "source": [
    "import numpy as np\n",
    "import scipy.io\n",
    "from sklearn.preprocessing import OneHotEncoder"
   ]
  },
  {
   "cell_type": "code",
   "execution_count": 2,
   "metadata": {},
   "outputs": [],
   "source": [
    "def sigmoid(x):\n",
    "    return 1/(1+np.exp(-x))"
   ]
  },
  {
   "cell_type": "code",
   "execution_count": 3,
   "metadata": {},
   "outputs": [],
   "source": [
    "def feed_forward(girdi,all_thetas):\n",
    "    a = girdi\n",
    "    katman_ciktilari = list()\n",
    "    for thetas in all_thetas:\n",
    "        temp = np.concatenate([np.ones((a.shape[0],1)),a],axis=1)\n",
    "        a = sigmoid(temp.dot(thetas.T)) \n",
    "        katman_ciktilari.append(a)\n",
    "    return a,katman_ciktilari[:-1]"
   ]
  },
  {
   "cell_type": "code",
   "execution_count": 4,
   "metadata": {},
   "outputs": [],
   "source": [
    "def accuracy(Y,tahminler):\n",
    "    return (Y == tahminler.argmax(axis=1).reshape(-1,1)).sum() / Y.shape[0]"
   ]
  },
  {
   "cell_type": "code",
   "execution_count": 5,
   "metadata": {},
   "outputs": [],
   "source": [
    "def mse_hesapla(tahminler,gercek):\n",
    "    return (((tahminler-gercek)**2)/gercek.shape[0]).sum()"
   ]
  },
  {
   "cell_type": "code",
   "execution_count": 6,
   "metadata": {},
   "outputs": [],
   "source": [
    "def gradient_checking(girdi,cikti,gradientle_hesaplananlar,all_thetas,epsilon=0.0001):\n",
    "    tum_agirliklar = np.concatenate([x.flatten() for x in all_thetas])\n",
    "    egimle_gradientler = np.zeros((tum_agirliklar.shape[0]))\n",
    "    for i,agirlik in enumerate(tum_agirliklar):\n",
    "        temp1 = tum_agirliklar.copy()\n",
    "        temp1[i] += epsilon\n",
    "        t1 = temp1[:25*401].reshape(25,401)\n",
    "        t2 = temp1[25*401:].reshape(10,26)\n",
    "        tahmin1,_ = feed_forward(girdi,[t1,t2])\n",
    "        \n",
    "        temp2 = tum_agirliklar.copy()\n",
    "        temp2[i] -= epsilon\n",
    "        t1 = temp2[:25*401].reshape(25,401)\n",
    "        t2 = temp2[25*401:].reshape(10,26)\n",
    "        tahmin2,_ = feed_forward(girdi,[t1,t2])\n",
    "        \n",
    "        x1 = mse_hesapla(tahmin1,cikti)\n",
    "        x2 = mse_hesapla(tahmin2,cikti)\n",
    "        \n",
    "        egimle_gradientler[i] = (x1-x2)/(2*epsilon)\n",
    "    gradient_duz = np.concatenate([x.flatten() for x in gradients])\n",
    "    return np.abs((gradient_duz - egimle_gradientler)).sum() / gradient_duz.size"
   ]
  },
  {
   "cell_type": "code",
   "execution_count": 7,
   "metadata": {},
   "outputs": [],
   "source": [
    "data = scipy.io.loadmat('ex4data1.mat')\n",
    "resimler = data['X']\n",
    "etiketler = data['y']"
   ]
  },
  {
   "cell_type": "code",
   "execution_count": 8,
   "metadata": {},
   "outputs": [],
   "source": [
    "etiketler[etiketler == 10] = 0"
   ]
  },
  {
   "cell_type": "code",
   "execution_count": 9,
   "metadata": {},
   "outputs": [],
   "source": [
    "thetas1 = np.random.randn(25,resimler.shape[1]+1)\n",
    "thetas2 = np.random.randn(len(np.unique(etiketler)),thetas1.shape[0]+1)\n",
    "#ep = 0.12\n",
    "#thetas1 = np.random.rand(25,resimler.shape[1]+1)*2*ep - ep\n",
    "#thetas2 = np.random.rand(len(np.unique(etiketler)),thetas1.shape[0]+1)*2*ep - ep"
   ]
  },
  {
   "cell_type": "code",
   "execution_count": 10,
   "metadata": {},
   "outputs": [],
   "source": [
    "all_thetas = np.array([thetas1,thetas2])"
   ]
  },
  {
   "cell_type": "code",
   "execution_count": 11,
   "metadata": {},
   "outputs": [],
   "source": [
    "from sklearn.preprocessing import OneHotEncoder\n",
    "ohe = OneHotEncoder()\n",
    "etiketler_ohe = ohe.fit_transform(etiketler).toarray()\n",
    "lr = 0.01"
   ]
  },
  {
   "cell_type": "code",
   "execution_count": 12,
   "metadata": {},
   "outputs": [],
   "source": [
    "all_losses = list()"
   ]
  },
  {
   "cell_type": "code",
   "execution_count": 13,
   "metadata": {},
   "outputs": [
    {
     "data": {
      "text/plain": [
       "(25, 401)"
      ]
     },
     "execution_count": 13,
     "metadata": {},
     "output_type": "execute_result"
    }
   ],
   "source": [
    "thetas1.shape"
   ]
  },
  {
   "cell_type": "code",
   "execution_count": 14,
   "metadata": {},
   "outputs": [
    {
     "data": {
      "text/plain": [
       "(10, 26)"
      ]
     },
     "execution_count": 14,
     "metadata": {},
     "output_type": "execute_result"
    }
   ],
   "source": [
    "thetas2.shape"
   ]
  },
  {
   "cell_type": "code",
   "execution_count": 15,
   "metadata": {
    "scrolled": true
   },
   "outputs": [
    {
     "name": "stdout",
     "output_type": "stream",
     "text": [
      "1.Epok, Loss = 1.724731203898453, Accuracy = 0.1\n",
      "2.Epok, Loss = 1.6748004709627724, Accuracy = 0.1\n",
      "3.Epok, Loss = 1.6042947115164026, Accuracy = 0.1\n",
      "4.Epok, Loss = 1.5159108088221507, Accuracy = 0.1002\n",
      "5.Epok, Loss = 1.4207518652005324, Accuracy = 0.1028\n",
      "6.Epok, Loss = 1.3313771733147683, Accuracy = 0.1108\n",
      "7.Epok, Loss = 1.2507722607685878, Accuracy = 0.132\n",
      "8.Epok, Loss = 1.1796845235292064, Accuracy = 0.164\n",
      "9.Epok, Loss = 1.118046528158544, Accuracy = 0.217\n",
      "10.Epok, Loss = 1.0656811939814435, Accuracy = 0.2672\n",
      "11.Epok, Loss = 1.0220290352368118, Accuracy = 0.3046\n",
      "12.Epok, Loss = 0.9858223281353807, Accuracy = 0.3318\n",
      "13.Epok, Loss = 0.956276074597346, Accuracy = 0.3574\n",
      "14.Epok, Loss = 0.9306895936488941, Accuracy = 0.3828\n",
      "15.Epok, Loss = 0.9067784405701769, Accuracy = 0.4046\n",
      "16.Epok, Loss = 0.8844102074338324, Accuracy = 0.423\n",
      "17.Epok, Loss = 0.8636300905868854, Accuracy = 0.4402\n",
      "18.Epok, Loss = 0.8443237548794076, Accuracy = 0.4536\n",
      "19.Epok, Loss = 0.8263857914573353, Accuracy = 0.4674\n",
      "20.Epok, Loss = 0.8097122888401806, Accuracy = 0.4794\n",
      "21.Epok, Loss = 0.7941207685042923, Accuracy = 0.4898\n",
      "22.Epok, Loss = 0.7793722724917114, Accuracy = 0.4974\n",
      "23.Epok, Loss = 0.7652613362104184, Accuracy = 0.5068\n",
      "24.Epok, Loss = 0.7516731795232517, Accuracy = 0.515\n",
      "25.Epok, Loss = 0.7385657283262698, Accuracy = 0.5208\n",
      "26.Epok, Loss = 0.7259229849929678, Accuracy = 0.526\n",
      "27.Epok, Loss = 0.7137245595119878, Accuracy = 0.534\n",
      "28.Epok, Loss = 0.7019313839216808, Accuracy = 0.5422\n",
      "29.Epok, Loss = 0.6904846145146821, Accuracy = 0.5482\n",
      "30.Epok, Loss = 0.6793204523957644, Accuracy = 0.5554\n",
      "31.Epok, Loss = 0.6683865131535861, Accuracy = 0.5638\n",
      "32.Epok, Loss = 0.6576447555060357, Accuracy = 0.5704\n",
      "33.Epok, Loss = 0.6470694418349295, Accuracy = 0.5774\n",
      "34.Epok, Loss = 0.6366427416791552, Accuracy = 0.5858\n",
      "35.Epok, Loss = 0.626338602452811, Accuracy = 0.5936\n",
      "36.Epok, Loss = 0.6161145699487308, Accuracy = 0.6002\n",
      "37.Epok, Loss = 0.6059338055978039, Accuracy = 0.6096\n",
      "38.Epok, Loss = 0.5957962946017114, Accuracy = 0.6184\n",
      "39.Epok, Loss = 0.5857561397397235, Accuracy = 0.6266\n",
      "40.Epok, Loss = 0.5759192753810427, Accuracy = 0.634\n",
      "41.Epok, Loss = 0.5664048494224703, Accuracy = 0.6408\n",
      "42.Epok, Loss = 0.5572913664386978, Accuracy = 0.6494\n",
      "43.Epok, Loss = 0.5486013891640785, Accuracy = 0.6572\n",
      "44.Epok, Loss = 0.5403201548862663, Accuracy = 0.662\n",
      "45.Epok, Loss = 0.5324157110656844, Accuracy = 0.6696\n",
      "46.Epok, Loss = 0.5248512578286002, Accuracy = 0.6756\n",
      "47.Epok, Loss = 0.5175916830359453, Accuracy = 0.6816\n",
      "48.Epok, Loss = 0.5106061941670591, Accuracy = 0.6878\n",
      "49.Epok, Loss = 0.5038682382663535, Accuracy = 0.694\n",
      "50.Epok, Loss = 0.4973539441134585, Accuracy = 0.6992\n",
      "51.Epok, Loss = 0.4910405212819832, Accuracy = 0.7046\n",
      "52.Epok, Loss = 0.48490568613779583, Accuracy = 0.7088\n",
      "53.Epok, Loss = 0.47892826447243136, Accuracy = 0.711\n",
      "54.Epok, Loss = 0.4730893803222353, Accuracy = 0.7162\n",
      "55.Epok, Loss = 0.46737348129611284, Accuracy = 0.7206\n",
      "56.Epok, Loss = 0.4617686411934392, Accuracy = 0.7248\n",
      "57.Epok, Loss = 0.45626587541787933, Accuracy = 0.7292\n",
      "58.Epok, Loss = 0.45085773832041404, Accuracy = 0.7336\n",
      "59.Epok, Loss = 0.4455375606845508, Accuracy = 0.7382\n",
      "60.Epok, Loss = 0.4403013875087328, Accuracy = 0.7434\n",
      "61.Epok, Loss = 0.43515058270391643, Accuracy = 0.7476\n",
      "62.Epok, Loss = 0.4300890795260907, Accuracy = 0.7522\n",
      "63.Epok, Loss = 0.42511902860374906, Accuracy = 0.7558\n",
      "64.Epok, Loss = 0.420240705113712, Accuracy = 0.7592\n",
      "65.Epok, Loss = 0.4154537075062869, Accuracy = 0.7636\n",
      "66.Epok, Loss = 0.4107570836251681, Accuracy = 0.7668\n",
      "67.Epok, Loss = 0.40614876300809766, Accuracy = 0.7688\n",
      "68.Epok, Loss = 0.4016248889441482, Accuracy = 0.7724\n",
      "69.Epok, Loss = 0.39717948748101695, Accuracy = 0.777\n",
      "70.Epok, Loss = 0.39280491526697386, Accuracy = 0.7794\n",
      "71.Epok, Loss = 0.38849318718072345, Accuracy = 0.7814\n",
      "72.Epok, Loss = 0.3842376170097461, Accuracy = 0.7832\n",
      "73.Epok, Loss = 0.3800339831158438, Accuracy = 0.786\n",
      "74.Epok, Loss = 0.3758808742062154, Accuracy = 0.7876\n",
      "75.Epok, Loss = 0.3717793526298525, Accuracy = 0.7894\n",
      "76.Epok, Loss = 0.36773217339113434, Accuracy = 0.793\n",
      "77.Epok, Loss = 0.3637426523925098, Accuracy = 0.7952\n",
      "78.Epok, Loss = 0.3598132462600352, Accuracy = 0.7978\n",
      "79.Epok, Loss = 0.35594433934659286, Accuracy = 0.801\n",
      "80.Epok, Loss = 0.3521343271259174, Accuracy = 0.8028\n",
      "81.Epok, Loss = 0.3483812791737304, Accuracy = 0.8052\n",
      "82.Epok, Loss = 0.34468444300605344, Accuracy = 0.8076\n",
      "83.Epok, Loss = 0.3410440410709027, Accuracy = 0.8088\n",
      "84.Epok, Loss = 0.3374601435015453, Accuracy = 0.8114\n",
      "85.Epok, Loss = 0.33393221424194625, Accuracy = 0.814\n",
      "86.Epok, Loss = 0.3304596658542839, Accuracy = 0.8148\n",
      "87.Epok, Loss = 0.3270426624560085, Accuracy = 0.8186\n",
      "88.Epok, Loss = 0.3236824991499143, Accuracy = 0.821\n",
      "89.Epok, Loss = 0.32038142395861047, Accuracy = 0.823\n",
      "90.Epok, Loss = 0.31714210055267417, Accuracy = 0.825\n",
      "91.Epok, Loss = 0.3139669697467341, Accuracy = 0.8272\n",
      "92.Epok, Loss = 0.31085768636478706, Accuracy = 0.829\n",
      "93.Epok, Loss = 0.30781470175103826, Accuracy = 0.8316\n",
      "94.Epok, Loss = 0.30483699526093627, Accuracy = 0.8326\n",
      "95.Epok, Loss = 0.30192195192817267, Accuracy = 0.835\n",
      "96.Epok, Loss = 0.29906542070722375, Accuracy = 0.8364\n",
      "97.Epok, Loss = 0.2962620198787989, Accuracy = 0.8384\n",
      "98.Epok, Loss = 0.29350573033660915, Accuracy = 0.8404\n",
      "99.Epok, Loss = 0.290790705420862, Accuracy = 0.8414\n",
      "100.Epok, Loss = 0.28811208151347345, Accuracy = 0.8424\n"
     ]
    }
   ],
   "source": [
    "for epoch in range(100):\n",
    "    losses = list()\n",
    "    for i in range(resimler.shape[0]):\n",
    "        son_cikti,ara_katman_ciktilari = feed_forward(resimler[i:i+1],[thetas1,thetas2])\n",
    "        if(i % 10 == 0 or i == resimler.shape[0]-1):\n",
    "            losses.append(mse_hesapla(son_cikti,etiketler_ohe[i:i+1]))\n",
    "        deltas = [(son_cikti-etiketler_ohe[i:i+1]).reshape(10,1)]\n",
    "        delta = deltas[0]\n",
    "        for thetas,a in zip(all_thetas[1:][::-1],ara_katman_ciktilari):\n",
    "            a_temp = np.concatenate([np.ones((a.shape[0],1)),a],axis=1)\n",
    "            delta = (thetas.T.dot(delta).T*a_temp*(1-a_temp)).reshape(-1,1)\n",
    "            deltas.append(delta)\n",
    "        gradients = list()\n",
    "        temp = [resimler[i].copy().reshape(1,-1)]\n",
    "        temp.extend(ara_katman_ciktilari)\n",
    "        for j,(delta,cikti) in enumerate(zip(deltas,temp[::-1])):\n",
    "            t = np.concatenate([np.ones((cikti.shape[0],1)),cikti],axis=1)\n",
    "            if j == len(deltas)-1:\n",
    "                gradients.append(delta.dot(t)[1:])\n",
    "            else:\n",
    "                gradients.append(delta.dot(t))\n",
    "            all_thetas[all_thetas.size-j-1] -= lr*gradients[j]\n",
    "        if(i%1000 == 0):\n",
    "            benim = np.concatenate([x.flatten() for x in gradients])\n",
    "            gradient_checking(resimler[i:i+1],etiketler_ohe[i:i+1],gradients,all_thetas)\n",
    "    tahmin,_ = feed_forward(resimler,all_thetas)\n",
    "    mse = mse_hesapla(tahmin,etiketler_ohe)\n",
    "    print(\"{0}.Epok, Loss = {1}, Accuracy = {2}\".format(epoch+1,mse,accuracy(etiketler,tahmin)))\n",
    "    #all_losses.extend(losses)\n",
    "    all_losses.append(mse)"
   ]
  },
  {
   "cell_type": "code",
   "execution_count": 16,
   "metadata": {},
   "outputs": [],
   "source": [
    "import matplotlib.pyplot as plt"
   ]
  },
  {
   "cell_type": "code",
   "execution_count": 17,
   "metadata": {},
   "outputs": [
    {
     "data": {
      "text/plain": [
       "Text(0, 0.5, 'Loss')"
      ]
     },
     "execution_count": 17,
     "metadata": {},
     "output_type": "execute_result"
    },
    {
     "data": {
      "image/png": "[encoded data removed]",
      "text/plain": [
       "<Figure size 432x288 with 1 Axes>"
      ]
     },
     "metadata": {
      "needs_background": "light"
     },
     "output_type": "display_data"
    }
   ],
   "source": [
    "plt.plot(range(1,len(all_losses)+1),all_losses)\n",
    "plt.xlabel(\"Epoklar\")\n",
    "plt.ylabel(\"Loss\")"
   ]
  },
  {
   "cell_type": "code",
   "execution_count": 18,
   "metadata": {},
   "outputs": [
    {
     "name": "stdout",
     "output_type": "stream",
     "text": [
      "Sinif =  [1]\n"
     ]
    },
    {
     "data": {
      "text/plain": [
       "<matplotlib.image.AxesImage at 0x25b7883b880>"
      ]
     },
     "execution_count": 18,
     "metadata": {},
     "output_type": "execute_result"
    },
    {
     "data": {
      "image/png": "[encoded data removed]",
      "text/plain": [
       "<Figure size 432x288 with 1 Axes>"
      ]
     },
     "metadata": {
      "needs_background": "light"
     },
     "output_type": "display_data"
    }
   ],
   "source": [
    "indis = 800\n",
    "print(\"Sinif = \",etiketler[indis])\n",
    "plt.imshow(resimler[indis].reshape(20,20,order='F'))"
   ]
  },
  {
   "cell_type": "code",
   "execution_count": 19,
   "metadata": {},
   "outputs": [],
   "source": [
    "cikti,_ = feed_forward(resimler[indis:indis+1],all_thetas)"
   ]
  },
  {
   "cell_type": "code",
   "execution_count": 20,
   "metadata": {},
   "outputs": [
    {
     "data": {
      "text/plain": [
       "1"
      ]
     },
     "execution_count": 20,
     "metadata": {},
     "output_type": "execute_result"
    }
   ],
   "source": [
    "cikti.argmax()"
   ]
  },
  {
   "cell_type": "code",
   "execution_count": 21,
   "metadata": {},
   "outputs": [
    {
     "data": {
      "text/plain": [
       "array([[2.78118140e-09, 9.92564065e-01, 1.71081686e-03, 2.14376376e-03,\n",
       "        8.54901170e-05, 6.57362118e-08, 1.66537050e-05, 1.76860168e-02,\n",
       "        4.31920608e-04, 5.59537579e-03]])"
      ]
     },
     "execution_count": 21,
     "metadata": {},
     "output_type": "execute_result"
    }
   ],
   "source": [
    "cikti"
   ]
  },
  {
   "cell_type": "code",
   "execution_count": 22,
   "metadata": {},
   "outputs": [
    {
     "data": {
      "text/plain": [
       "array([0, 0, 0, ..., 9, 9, 9], dtype=int64)"
      ]
     },
     "execution_count": 22,
     "metadata": {},
     "output_type": "execute_result"
    }
   ],
   "source": [
    "tahmin.argmax(axis=1)"
   ]
  },
  {
   "cell_type": "code",
   "execution_count": null,
   "metadata": {},
   "outputs": [],
   "source": []
  },
  {
   "cell_type": "code",
   "execution_count": null,
   "metadata": {},
   "outputs": [],
   "source": []
  },
  {
   "cell_type": "code",
   "execution_count": null,
   "metadata": {},
   "outputs": [],
   "source": []
  },
  {
   "cell_type": "code",
   "execution_count": null,
   "metadata": {},
   "outputs": [],
   "source": []
  },
  {
   "cell_type": "code",
   "execution_count": null,
   "metadata": {},
   "outputs": [],
   "source": []
  }
 ],
 "metadata": {
  "kernelspec": {
   "display_name": "Python 3",
   "language": "python",
   "name": "python3"
  },
  "language_info": {
   "codemirror_mode": {
    "name": "ipython",
    "version": 3
   },
   "file_extension": ".py",
   "mimetype": "text/x-python",
   "name": "python",
   "nbconvert_exporter": "python",
   "pygments_lexer": "ipython3",
   "version": "3.8.3"
  }
 },
 "nbformat": 4,
 "nbformat_minor": 4
}
