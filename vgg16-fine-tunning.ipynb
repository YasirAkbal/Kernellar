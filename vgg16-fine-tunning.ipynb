{
 "cells": [
  {
   "cell_type": "code",
   "execution_count": 1,
   "metadata": {
    "_cell_guid": "b1076dfc-b9ad-4769-8c92-a6c4dae69d19",
    "_uuid": "8f2839f25d086af736a60e9eeb907d3b93b6e0e5"
   },
   "outputs": [
    {
     "name": "stdout",
     "output_type": "stream",
     "text": [
      "/kaggle/input/cifar-10/sampleSubmission.csv\n",
      "/kaggle/input/cifar-10/trainLabels.csv\n",
      "/kaggle/input/cifar-10/test.7z\n",
      "/kaggle/input/cifar-10/train.7z\n"
     ]
    }
   ],
   "source": [
    "import numpy as np \n",
    "import pandas as pd \n",
    "\n",
    "import os\n",
    "for dirname, _, filenames in os.walk('/kaggle/input'):\n",
    "    for filename in filenames:\n",
    "        print(os.path.join(dirname, filename))"
   ]
  },
  {
   "cell_type": "code",
   "execution_count": 2,
   "metadata": {},
   "outputs": [
    {
     "name": "stderr",
     "output_type": "stream",
     "text": [
      "Using TensorFlow backend.\n"
     ]
    }
   ],
   "source": [
    "from keras import layers\n",
    "from keras import models\n",
    "from keras.utils import to_categorical\n",
    "from keras.applications import VGG16\n",
    "from keras.datasets import cifar10\n",
    "from keras.preprocessing import image\n",
    "import matplotlib.pyplot as plt\n",
    "import cv2"
   ]
  },
  {
   "cell_type": "code",
   "execution_count": 3,
   "metadata": {},
   "outputs": [],
   "source": [
    "def graph(history):\n",
    "    epoklar = range(1,len(history[\"loss\"])+1)\n",
    "    \n",
    "    plt.plot(epoklar,history[\"loss\"],label=\"Training Loss\")\n",
    "    plt.plot(epoklar,history[\"val_loss\"],label=\"Validation Loss\")\n",
    "    plt.title(\"Loss\")\n",
    "    plt.legend()\n",
    "    plt.show()\n",
    "    \n",
    "    plt.plot(epoklar,history[\"acc\"],label=\"Training Accuracy\")\n",
    "    plt.plot(epoklar,history[\"val_acc\"],label=\"Validation Accuracy\")\n",
    "    plt.title(\"Accuracy\")\n",
    "    plt.legend()\n",
    "    plt.show()"
   ]
  },
  {
   "cell_type": "code",
   "execution_count": 4,
   "metadata": {},
   "outputs": [
    {
     "name": "stdout",
     "output_type": "stream",
     "text": [
      "Downloading data from https://www.cs.toronto.edu/~kriz/cifar-10-python.tar.gz\n",
      "170500096/170498071 [==============================] - 7s 0us/step\n"
     ]
    }
   ],
   "source": [
    "(train_images,train_labels),(test_images,test_labels) = cifar10.load_data()"
   ]
  },
  {
   "cell_type": "code",
   "execution_count": 5,
   "metadata": {},
   "outputs": [],
   "source": [
    "def resize(images):\n",
    "    yeni = np.zeros((images.shape[0],96,96,3),dtype=np.float32)\n",
    "    for i in range(len(images)):\n",
    "        yeni[i] = cv2.resize(images[i,:,:,:],(96,96))\n",
    "    return yeni"
   ]
  },
  {
   "cell_type": "code",
   "execution_count": 6,
   "metadata": {},
   "outputs": [],
   "source": [
    "train_images = resize(train_images)\n",
    "test_images = resize(test_images)"
   ]
  },
  {
   "cell_type": "code",
   "execution_count": 7,
   "metadata": {},
   "outputs": [
    {
     "data": {
      "text/plain": [
       "(50000, 96, 96, 3)"
      ]
     },
     "execution_count": 7,
     "metadata": {},
     "output_type": "execute_result"
    }
   ],
   "source": [
    "train_images.shape"
   ]
  },
  {
   "cell_type": "code",
   "execution_count": 8,
   "metadata": {},
   "outputs": [
    {
     "data": {
      "text/plain": [
       "(50000, 1)"
      ]
     },
     "execution_count": 8,
     "metadata": {},
     "output_type": "execute_result"
    }
   ],
   "source": [
    "train_labels.shape"
   ]
  },
  {
   "cell_type": "code",
   "execution_count": 9,
   "metadata": {},
   "outputs": [
    {
     "data": {
      "text/plain": [
       "10"
      ]
     },
     "execution_count": 9,
     "metadata": {},
     "output_type": "execute_result"
    }
   ],
   "source": [
    "numberOfClass = len(np.unique(train_labels))\n",
    "numberOfClass"
   ]
  },
  {
   "cell_type": "code",
   "execution_count": 10,
   "metadata": {},
   "outputs": [
    {
     "data": {
      "image/png": "[encoded data removed]",
      "text/plain": [
       "<Figure size 432x288 with 1 Axes>"
      ]
     },
     "metadata": {
      "needs_background": "light"
     },
     "output_type": "display_data"
    }
   ],
   "source": [
    "plt.imshow(test_images[20].astype(np.uint8))\n",
    "plt.axis(\"off\")\n",
    "plt.show()"
   ]
  },
  {
   "cell_type": "code",
   "execution_count": 11,
   "metadata": {},
   "outputs": [],
   "source": [
    "#one-hot encoding\n",
    "train_labels = to_categorical(train_labels)\n",
    "test_labels = to_categorical(test_labels)"
   ]
  },
  {
   "cell_type": "code",
   "execution_count": 12,
   "metadata": {},
   "outputs": [],
   "source": [
    "x_train = train_images[:35000]\n",
    "y_train = train_labels[:35000]\n",
    "\n",
    "x_valid = train_images[35000:]\n",
    "y_valid = train_labels[35000:]\n",
    "\n",
    "x_test = test_images\n",
    "y_test = test_labels"
   ]
  },
  {
   "cell_type": "code",
   "execution_count": 13,
   "metadata": {},
   "outputs": [],
   "source": [
    "#data augmentation and normalize images with using ImageDataGenerator\n",
    "train_datagen = image.ImageDataGenerator(\n",
    "      rescale=1./255,\n",
    "      rotation_range=30,\n",
    "      width_shift_range=0.15,\n",
    "      height_shift_range=0.15,\n",
    "      shear_range=0.15,\n",
    "      zoom_range=0.1,\n",
    "      horizontal_flip=True,\n",
    "      fill_mode='nearest')\n",
    "\n",
    "valid_datagen = image.ImageDataGenerator(rescale=1./255)\n",
    "test_datagen = image.ImageDataGenerator(rescale=1./255)"
   ]
  },
  {
   "cell_type": "code",
   "execution_count": 14,
   "metadata": {},
   "outputs": [],
   "source": [
    "batch_size = 256\n",
    "epoch = 30\n",
    "size = x_train.shape[1:]"
   ]
  },
  {
   "cell_type": "code",
   "execution_count": 15,
   "metadata": {},
   "outputs": [],
   "source": [
    "train_generator = train_datagen.flow(x_train,y_train,batch_size=batch_size)\n",
    "valid_generator = valid_datagen.flow(x_valid,y_valid,batch_size=batch_size)\n",
    "test_generator = test_datagen.flow(x_test,y_test,batch_size=batch_size)"
   ]
  },
  {
   "cell_type": "markdown",
   "metadata": {},
   "source": [
    "# Feature Extraction\n",
    "\n",
    "Step 1 - Load pre-trained model and freeze\n",
    "\n",
    "Step 2 - Create new model and add the frozen pretrained model in this model\n",
    "\n",
    "Step 3 - Add dense layers\n",
    "\n",
    "Step 4 - Train Model"
   ]
  },
  {
   "cell_type": "code",
   "execution_count": 16,
   "metadata": {},
   "outputs": [
    {
     "name": "stdout",
     "output_type": "stream",
     "text": [
      "Downloading data from https://github.com/fchollet/deep-learning-models/releases/download/v0.1/vgg16_weights_tf_dim_ordering_tf_kernels_notop.h5\n",
      "58892288/58889256 [==============================] - 2s 0us/step\n"
     ]
    }
   ],
   "source": [
    "vgg16 = VGG16(weights=\"imagenet\",include_top=False,input_shape=size)"
   ]
  },
  {
   "cell_type": "code",
   "execution_count": 17,
   "metadata": {},
   "outputs": [
    {
     "name": "stdout",
     "output_type": "stream",
     "text": [
      "Model: \"vgg16\"\n",
      "_________________________________________________________________\n",
      "Layer (type)                 Output Shape              Param #   \n",
      "=================================================================\n",
      "input_1 (InputLayer)         (None, 96, 96, 3)         0         \n",
      "_________________________________________________________________\n",
      "block1_conv1 (Conv2D)        (None, 96, 96, 64)        1792      \n",
      "_________________________________________________________________\n",
      "block1_conv2 (Conv2D)        (None, 96, 96, 64)        36928     \n",
      "_________________________________________________________________\n",
      "block1_pool (MaxPooling2D)   (None, 48, 48, 64)        0         \n",
      "_________________________________________________________________\n",
      "block2_conv1 (Conv2D)        (None, 48, 48, 128)       73856     \n",
      "_________________________________________________________________\n",
      "block2_conv2 (Conv2D)        (None, 48, 48, 128)       147584    \n",
      "_________________________________________________________________\n",
      "block2_pool (MaxPooling2D)   (None, 24, 24, 128)       0         \n",
      "_________________________________________________________________\n",
      "block3_conv1 (Conv2D)        (None, 24, 24, 256)       295168    \n",
      "_________________________________________________________________\n",
      "block3_conv2 (Conv2D)        (None, 24, 24, 256)       590080    \n",
      "_________________________________________________________________\n",
      "block3_conv3 (Conv2D)        (None, 24, 24, 256)       590080    \n",
      "_________________________________________________________________\n",
      "block3_pool (MaxPooling2D)   (None, 12, 12, 256)       0         \n",
      "_________________________________________________________________\n",
      "block4_conv1 (Conv2D)        (None, 12, 12, 512)       1180160   \n",
      "_________________________________________________________________\n",
      "block4_conv2 (Conv2D)        (None, 12, 12, 512)       2359808   \n",
      "_________________________________________________________________\n",
      "block4_conv3 (Conv2D)        (None, 12, 12, 512)       2359808   \n",
      "_________________________________________________________________\n",
      "block4_pool (MaxPooling2D)   (None, 6, 6, 512)         0         \n",
      "_________________________________________________________________\n",
      "block5_conv1 (Conv2D)        (None, 6, 6, 512)         2359808   \n",
      "_________________________________________________________________\n",
      "block5_conv2 (Conv2D)        (None, 6, 6, 512)         2359808   \n",
      "_________________________________________________________________\n",
      "block5_conv3 (Conv2D)        (None, 6, 6, 512)         2359808   \n",
      "_________________________________________________________________\n",
      "block5_pool (MaxPooling2D)   (None, 3, 3, 512)         0         \n",
      "=================================================================\n",
      "Total params: 14,714,688\n",
      "Trainable params: 14,714,688\n",
      "Non-trainable params: 0\n",
      "_________________________________________________________________\n"
     ]
    }
   ],
   "source": [
    "vgg16.summary()"
   ]
  },
  {
   "cell_type": "markdown",
   "metadata": {},
   "source": [
    "**Load Pre-trained Model**\n",
    "\n",
    "* We are select include_top = False. Because we are don't want dense layers.\n",
    "\n",
    "* This Model coming with trained weights on imagenet"
   ]
  },
  {
   "cell_type": "code",
   "execution_count": 18,
   "metadata": {},
   "outputs": [],
   "source": [
    "#create new model and add pretrained model in this model\n",
    "model = models.Sequential()\n",
    "for i in range(len(vgg16.layers)):\n",
    "    model.add(vgg16.layers[i])\n",
    "\n",
    "for i in range(len(model.layers)): #freeze pretrained model\n",
    "    model.layers[i].trainable = False\n",
    "\n",
    "#add new layers your model\n",
    "model.add(layers.Flatten())\n",
    "model.add(layers.Dropout(0.40))\n",
    "model.add(layers.Dense(256,activation=\"relu\"))\n",
    "model.add(layers.Dense(numberOfClass,activation=\"softmax\"))"
   ]
  },
  {
   "cell_type": "code",
   "execution_count": 19,
   "metadata": {},
   "outputs": [],
   "source": [
    "model.compile(optimizer=\"rmsprop\",loss=\"categorical_crossentropy\",\n",
    "              metrics=[\"acc\"])"
   ]
  },
  {
   "cell_type": "code",
   "execution_count": 20,
   "metadata": {},
   "outputs": [
    {
     "name": "stdout",
     "output_type": "stream",
     "text": [
      "Model: \"sequential_1\"\n",
      "_________________________________________________________________\n",
      "Layer (type)                 Output Shape              Param #   \n",
      "=================================================================\n",
      "block1_conv1 (Conv2D)        (None, 96, 96, 64)        1792      \n",
      "_________________________________________________________________\n",
      "block1_conv2 (Conv2D)        (None, 96, 96, 64)        36928     \n",
      "_________________________________________________________________\n",
      "block1_pool (MaxPooling2D)   (None, 48, 48, 64)        0         \n",
      "_________________________________________________________________\n",
      "block2_conv1 (Conv2D)        (None, 48, 48, 128)       73856     \n",
      "_________________________________________________________________\n",
      "block2_conv2 (Conv2D)        (None, 48, 48, 128)       147584    \n",
      "_________________________________________________________________\n",
      "block2_pool (MaxPooling2D)   (None, 24, 24, 128)       0         \n",
      "_________________________________________________________________\n",
      "block3_conv1 (Conv2D)        (None, 24, 24, 256)       295168    \n",
      "_________________________________________________________________\n",
      "block3_conv2 (Conv2D)        (None, 24, 24, 256)       590080    \n",
      "_________________________________________________________________\n",
      "block3_conv3 (Conv2D)        (None, 24, 24, 256)       590080    \n",
      "_________________________________________________________________\n",
      "block3_pool (MaxPooling2D)   (None, 12, 12, 256)       0         \n",
      "_________________________________________________________________\n",
      "block4_conv1 (Conv2D)        (None, 12, 12, 512)       1180160   \n",
      "_________________________________________________________________\n",
      "block4_conv2 (Conv2D)        (None, 12, 12, 512)       2359808   \n",
      "_________________________________________________________________\n",
      "block4_conv3 (Conv2D)        (None, 12, 12, 512)       2359808   \n",
      "_________________________________________________________________\n",
      "block4_pool (MaxPooling2D)   (None, 6, 6, 512)         0         \n",
      "_________________________________________________________________\n",
      "block5_conv1 (Conv2D)        (None, 6, 6, 512)         2359808   \n",
      "_________________________________________________________________\n",
      "block5_conv2 (Conv2D)        (None, 6, 6, 512)         2359808   \n",
      "_________________________________________________________________\n",
      "block5_conv3 (Conv2D)        (None, 6, 6, 512)         2359808   \n",
      "_________________________________________________________________\n",
      "block5_pool (MaxPooling2D)   (None, 3, 3, 512)         0         \n",
      "_________________________________________________________________\n",
      "flatten_1 (Flatten)          (None, 4608)              0         \n",
      "_________________________________________________________________\n",
      "dropout_1 (Dropout)          (None, 4608)              0         \n",
      "_________________________________________________________________\n",
      "dense_1 (Dense)              (None, 256)               1179904   \n",
      "_________________________________________________________________\n",
      "dense_2 (Dense)              (None, 10)                2570      \n",
      "=================================================================\n",
      "Total params: 15,897,162\n",
      "Trainable params: 1,182,474\n",
      "Non-trainable params: 14,714,688\n",
      "_________________________________________________________________\n"
     ]
    }
   ],
   "source": [
    "model.summary()"
   ]
  },
  {
   "cell_type": "code",
   "execution_count": 21,
   "metadata": {},
   "outputs": [
    {
     "data": {
      "text/plain": [
       "1182474"
      ]
     },
     "execution_count": 21,
     "metadata": {},
     "output_type": "execute_result"
    }
   ],
   "source": [
    "(4608*256 + 256) + (256*10 + 10)"
   ]
  },
  {
   "cell_type": "markdown",
   "metadata": {},
   "source": [
    "Now we have 1,182,474 trainable params."
   ]
  },
  {
   "cell_type": "code",
   "execution_count": 22,
   "metadata": {},
   "outputs": [
    {
     "name": "stdout",
     "output_type": "stream",
     "text": [
      "Epoch 1/30\n",
      "137/137 [==============================] - 84s 611ms/step - loss: 1.6543 - acc: 0.4538 - val_loss: 1.0244 - val_acc: 0.6143\n",
      "Epoch 2/30\n",
      "137/137 [==============================] - 76s 554ms/step - loss: 1.2512 - acc: 0.5645 - val_loss: 0.9445 - val_acc: 0.6529\n",
      "Epoch 3/30\n",
      "137/137 [==============================] - 76s 557ms/step - loss: 1.1745 - acc: 0.5893 - val_loss: 0.8335 - val_acc: 0.6775\n",
      "Epoch 4/30\n",
      "137/137 [==============================] - 77s 560ms/step - loss: 1.1277 - acc: 0.6057 - val_loss: 0.9950 - val_acc: 0.6687\n",
      "Epoch 5/30\n",
      "137/137 [==============================] - 76s 558ms/step - loss: 1.0958 - acc: 0.6170 - val_loss: 0.8558 - val_acc: 0.6991\n",
      "Epoch 6/30\n",
      "137/137 [==============================] - 76s 557ms/step - loss: 1.0624 - acc: 0.6261 - val_loss: 0.9200 - val_acc: 0.6995\n",
      "Epoch 7/30\n",
      "137/137 [==============================] - 76s 555ms/step - loss: 1.0563 - acc: 0.6303 - val_loss: 0.7573 - val_acc: 0.7047\n",
      "Epoch 8/30\n",
      "137/137 [==============================] - 77s 560ms/step - loss: 1.0362 - acc: 0.6369 - val_loss: 0.7402 - val_acc: 0.7045\n",
      "Epoch 9/30\n",
      "137/137 [==============================] - 76s 554ms/step - loss: 1.0129 - acc: 0.6461 - val_loss: 0.8305 - val_acc: 0.7248\n",
      "Epoch 10/30\n",
      "137/137 [==============================] - 76s 553ms/step - loss: 1.0044 - acc: 0.6502 - val_loss: 0.8165 - val_acc: 0.7187\n",
      "Epoch 11/30\n",
      "137/137 [==============================] - 76s 556ms/step - loss: 0.9916 - acc: 0.6544 - val_loss: 0.8320 - val_acc: 0.7133\n",
      "Epoch 12/30\n",
      "137/137 [==============================] - 76s 557ms/step - loss: 0.9817 - acc: 0.6546 - val_loss: 0.7214 - val_acc: 0.6892\n",
      "Epoch 13/30\n",
      "137/137 [==============================] - 76s 553ms/step - loss: 0.9726 - acc: 0.6575 - val_loss: 0.7260 - val_acc: 0.7216\n",
      "Epoch 14/30\n",
      "137/137 [==============================] - 76s 554ms/step - loss: 0.9649 - acc: 0.6607 - val_loss: 0.9896 - val_acc: 0.7271\n",
      "Epoch 15/30\n",
      "137/137 [==============================] - 76s 554ms/step - loss: 0.9576 - acc: 0.6642 - val_loss: 0.7785 - val_acc: 0.7027\n",
      "Epoch 16/30\n",
      "137/137 [==============================] - 76s 552ms/step - loss: 0.9466 - acc: 0.6691 - val_loss: 0.7541 - val_acc: 0.7367\n",
      "Epoch 17/30\n",
      "137/137 [==============================] - 75s 550ms/step - loss: 0.9348 - acc: 0.6727 - val_loss: 0.6918 - val_acc: 0.7373\n",
      "Epoch 18/30\n",
      "137/137 [==============================] - 76s 553ms/step - loss: 0.9315 - acc: 0.6745 - val_loss: 0.7777 - val_acc: 0.7285\n",
      "Epoch 19/30\n",
      "137/137 [==============================] - 76s 552ms/step - loss: 0.9204 - acc: 0.6763 - val_loss: 0.9385 - val_acc: 0.7350\n",
      "Epoch 20/30\n",
      "137/137 [==============================] - 75s 551ms/step - loss: 0.9220 - acc: 0.6758 - val_loss: 0.6681 - val_acc: 0.7404\n",
      "Epoch 21/30\n",
      "137/137 [==============================] - 75s 546ms/step - loss: 0.9153 - acc: 0.6811 - val_loss: 0.7808 - val_acc: 0.7341\n",
      "Epoch 22/30\n",
      "137/137 [==============================] - 75s 550ms/step - loss: 0.9121 - acc: 0.6819 - val_loss: 0.6449 - val_acc: 0.7341\n",
      "Epoch 23/30\n",
      "137/137 [==============================] - 75s 551ms/step - loss: 0.9116 - acc: 0.6829 - val_loss: 0.8021 - val_acc: 0.7369\n",
      "Epoch 24/30\n",
      "137/137 [==============================] - 76s 553ms/step - loss: 0.8961 - acc: 0.6847 - val_loss: 0.7861 - val_acc: 0.7421\n",
      "Epoch 25/30\n",
      "137/137 [==============================] - 75s 549ms/step - loss: 0.8922 - acc: 0.6857 - val_loss: 0.7448 - val_acc: 0.7395\n",
      "Epoch 26/30\n",
      "137/137 [==============================] - 76s 554ms/step - loss: 0.8944 - acc: 0.6880 - val_loss: 0.7661 - val_acc: 0.7325\n",
      "Epoch 27/30\n",
      "137/137 [==============================] - 76s 552ms/step - loss: 0.8920 - acc: 0.6884 - val_loss: 0.7497 - val_acc: 0.7442\n",
      "Epoch 28/30\n",
      "137/137 [==============================] - 75s 549ms/step - loss: 0.8845 - acc: 0.6879 - val_loss: 0.8145 - val_acc: 0.7447\n",
      "Epoch 29/30\n",
      "137/137 [==============================] - 75s 545ms/step - loss: 0.8826 - acc: 0.6932 - val_loss: 0.7436 - val_acc: 0.7473\n",
      "Epoch 30/30\n",
      "137/137 [==============================] - 76s 551ms/step - loss: 0.8756 - acc: 0.6937 - val_loss: 0.6483 - val_acc: 0.7405\n"
     ]
    }
   ],
   "source": [
    "history = model.fit_generator(generator=train_generator,\n",
    "                steps_per_epoch=len(train_generator),epochs=epoch,\n",
    "                validation_data=valid_generator,\n",
    "                validation_steps=len(valid_generator))"
   ]
  },
  {
   "cell_type": "code",
   "execution_count": 23,
   "metadata": {},
   "outputs": [
    {
     "data": {
      "image/png": "[encoded data removed]",
      "text/plain": [
       "<Figure size 432x288 with 1 Axes>"
      ]
     },
     "metadata": {
      "needs_background": "light"
     },
     "output_type": "display_data"
    },
    {
     "data": {
      "image/png": "[encoded data removed]",
      "text/plain": [
       "<Figure size 432x288 with 1 Axes>"
      ]
     },
     "metadata": {
      "needs_background": "light"
     },
     "output_type": "display_data"
    }
   ],
   "source": [
    "graph(history.history)"
   ]
  },
  {
   "cell_type": "code",
   "execution_count": 24,
   "metadata": {},
   "outputs": [],
   "source": [
    "loss,acc = model.evaluate_generator(test_generator,\n",
    "                        steps=len(test_generator))"
   ]
  },
  {
   "cell_type": "code",
   "execution_count": 25,
   "metadata": {},
   "outputs": [
    {
     "name": "stdout",
     "output_type": "stream",
     "text": [
      "Test Accuracy = 0.7329999804496765\n"
     ]
    }
   ],
   "source": [
    "print(\"Test Accuracy =\",acc)"
   ]
  },
  {
   "cell_type": "markdown",
   "metadata": {},
   "source": [
    "# Fine Tunning\n",
    "\n",
    "Step 1 - Take the Feature Extraction(We are did this step)\n",
    "\n",
    "Step 2 - Select layers to Fine Tunning\n",
    "\n",
    "Step 3 - Train Model\n"
   ]
  },
  {
   "cell_type": "code",
   "execution_count": 26,
   "metadata": {},
   "outputs": [
    {
     "name": "stdout",
     "output_type": "stream",
     "text": [
      "Model: \"sequential_1\"\n",
      "_________________________________________________________________\n",
      "Layer (type)                 Output Shape              Param #   \n",
      "=================================================================\n",
      "block1_conv1 (Conv2D)        (None, 96, 96, 64)        1792      \n",
      "_________________________________________________________________\n",
      "block1_conv2 (Conv2D)        (None, 96, 96, 64)        36928     \n",
      "_________________________________________________________________\n",
      "block1_pool (MaxPooling2D)   (None, 48, 48, 64)        0         \n",
      "_________________________________________________________________\n",
      "block2_conv1 (Conv2D)        (None, 48, 48, 128)       73856     \n",
      "_________________________________________________________________\n",
      "block2_conv2 (Conv2D)        (None, 48, 48, 128)       147584    \n",
      "_________________________________________________________________\n",
      "block2_pool (MaxPooling2D)   (None, 24, 24, 128)       0         \n",
      "_________________________________________________________________\n",
      "block3_conv1 (Conv2D)        (None, 24, 24, 256)       295168    \n",
      "_________________________________________________________________\n",
      "block3_conv2 (Conv2D)        (None, 24, 24, 256)       590080    \n",
      "_________________________________________________________________\n",
      "block3_conv3 (Conv2D)        (None, 24, 24, 256)       590080    \n",
      "_________________________________________________________________\n",
      "block3_pool (MaxPooling2D)   (None, 12, 12, 256)       0         \n",
      "_________________________________________________________________\n",
      "block4_conv1 (Conv2D)        (None, 12, 12, 512)       1180160   \n",
      "_________________________________________________________________\n",
      "block4_conv2 (Conv2D)        (None, 12, 12, 512)       2359808   \n",
      "_________________________________________________________________\n",
      "block4_conv3 (Conv2D)        (None, 12, 12, 512)       2359808   \n",
      "_________________________________________________________________\n",
      "block4_pool (MaxPooling2D)   (None, 6, 6, 512)         0         \n",
      "_________________________________________________________________\n",
      "block5_conv1 (Conv2D)        (None, 6, 6, 512)         2359808   \n",
      "_________________________________________________________________\n",
      "block5_conv2 (Conv2D)        (None, 6, 6, 512)         2359808   \n",
      "_________________________________________________________________\n",
      "block5_conv3 (Conv2D)        (None, 6, 6, 512)         2359808   \n",
      "_________________________________________________________________\n",
      "block5_pool (MaxPooling2D)   (None, 3, 3, 512)         0         \n",
      "_________________________________________________________________\n",
      "flatten_1 (Flatten)          (None, 4608)              0         \n",
      "_________________________________________________________________\n",
      "dropout_1 (Dropout)          (None, 4608)              0         \n",
      "_________________________________________________________________\n",
      "dense_1 (Dense)              (None, 256)               1179904   \n",
      "_________________________________________________________________\n",
      "dense_2 (Dense)              (None, 10)                2570      \n",
      "=================================================================\n",
      "Total params: 15,897,162\n",
      "Trainable params: 1,182,474\n",
      "Non-trainable params: 14,714,688\n",
      "_________________________________________________________________\n"
     ]
    }
   ],
   "source": [
    "model.summary()"
   ]
  },
  {
   "cell_type": "code",
   "execution_count": 27,
   "metadata": {},
   "outputs": [],
   "source": [
    "#select after blocks block5_conv1 to fine tunnig\n",
    "trnable = False\n",
    "for i in model.layers:\n",
    "    if i.name == \"block5_conv1\":\n",
    "        trnable = True\n",
    "    i.trainable = trnable"
   ]
  },
  {
   "cell_type": "code",
   "execution_count": 28,
   "metadata": {},
   "outputs": [],
   "source": [
    "from keras import optimizers"
   ]
  },
  {
   "cell_type": "code",
   "execution_count": 29,
   "metadata": {},
   "outputs": [],
   "source": [
    "#compile model with very low learning rate\n",
    "model.compile(optimizer=optimizers.RMSprop(lr=1e-5),\n",
    "        loss=\"categorical_crossentropy\",metrics=[\"acc\"])"
   ]
  },
  {
   "cell_type": "code",
   "execution_count": 30,
   "metadata": {},
   "outputs": [
    {
     "name": "stdout",
     "output_type": "stream",
     "text": [
      "Model: \"sequential_1\"\n",
      "_________________________________________________________________\n",
      "Layer (type)                 Output Shape              Param #   \n",
      "=================================================================\n",
      "block1_conv1 (Conv2D)        (None, 96, 96, 64)        1792      \n",
      "_________________________________________________________________\n",
      "block1_conv2 (Conv2D)        (None, 96, 96, 64)        36928     \n",
      "_________________________________________________________________\n",
      "block1_pool (MaxPooling2D)   (None, 48, 48, 64)        0         \n",
      "_________________________________________________________________\n",
      "block2_conv1 (Conv2D)        (None, 48, 48, 128)       73856     \n",
      "_________________________________________________________________\n",
      "block2_conv2 (Conv2D)        (None, 48, 48, 128)       147584    \n",
      "_________________________________________________________________\n",
      "block2_pool (MaxPooling2D)   (None, 24, 24, 128)       0         \n",
      "_________________________________________________________________\n",
      "block3_conv1 (Conv2D)        (None, 24, 24, 256)       295168    \n",
      "_________________________________________________________________\n",
      "block3_conv2 (Conv2D)        (None, 24, 24, 256)       590080    \n",
      "_________________________________________________________________\n",
      "block3_conv3 (Conv2D)        (None, 24, 24, 256)       590080    \n",
      "_________________________________________________________________\n",
      "block3_pool (MaxPooling2D)   (None, 12, 12, 256)       0         \n",
      "_________________________________________________________________\n",
      "block4_conv1 (Conv2D)        (None, 12, 12, 512)       1180160   \n",
      "_________________________________________________________________\n",
      "block4_conv2 (Conv2D)        (None, 12, 12, 512)       2359808   \n",
      "_________________________________________________________________\n",
      "block4_conv3 (Conv2D)        (None, 12, 12, 512)       2359808   \n",
      "_________________________________________________________________\n",
      "block4_pool (MaxPooling2D)   (None, 6, 6, 512)         0         \n",
      "_________________________________________________________________\n",
      "block5_conv1 (Conv2D)        (None, 6, 6, 512)         2359808   \n",
      "_________________________________________________________________\n",
      "block5_conv2 (Conv2D)        (None, 6, 6, 512)         2359808   \n",
      "_________________________________________________________________\n",
      "block5_conv3 (Conv2D)        (None, 6, 6, 512)         2359808   \n",
      "_________________________________________________________________\n",
      "block5_pool (MaxPooling2D)   (None, 3, 3, 512)         0         \n",
      "_________________________________________________________________\n",
      "flatten_1 (Flatten)          (None, 4608)              0         \n",
      "_________________________________________________________________\n",
      "dropout_1 (Dropout)          (None, 4608)              0         \n",
      "_________________________________________________________________\n",
      "dense_1 (Dense)              (None, 256)               1179904   \n",
      "_________________________________________________________________\n",
      "dense_2 (Dense)              (None, 10)                2570      \n",
      "=================================================================\n",
      "Total params: 15,897,162\n",
      "Trainable params: 8,261,898\n",
      "Non-trainable params: 7,635,264\n",
      "_________________________________________________________________\n"
     ]
    }
   ],
   "source": [
    "model.summary()"
   ]
  },
  {
   "cell_type": "markdown",
   "metadata": {},
   "source": [
    "Now we have 8,261,898 trainable params"
   ]
  },
  {
   "cell_type": "code",
   "execution_count": 31,
   "metadata": {},
   "outputs": [],
   "source": [
    "batch_size = 256\n",
    "epoch = 50"
   ]
  },
  {
   "cell_type": "code",
   "execution_count": 32,
   "metadata": {},
   "outputs": [
    {
     "name": "stdout",
     "output_type": "stream",
     "text": [
      "Epoch 1/50\n",
      "137/137 [==============================] - 80s 587ms/step - loss: 0.8133 - acc: 0.7138 - val_loss: 0.8239 - val_acc: 0.7631\n",
      "Epoch 2/50\n",
      "137/137 [==============================] - 77s 559ms/step - loss: 0.7637 - acc: 0.7346 - val_loss: 0.6659 - val_acc: 0.7805\n",
      "Epoch 3/50\n",
      "137/137 [==============================] - 77s 559ms/step - loss: 0.7379 - acc: 0.7429 - val_loss: 0.6452 - val_acc: 0.7847\n",
      "Epoch 4/50\n",
      "137/137 [==============================] - 77s 562ms/step - loss: 0.7163 - acc: 0.7491 - val_loss: 0.5255 - val_acc: 0.7921\n",
      "Epoch 5/50\n",
      "137/137 [==============================] - 76s 555ms/step - loss: 0.6925 - acc: 0.7589 - val_loss: 0.4507 - val_acc: 0.7963\n",
      "Epoch 6/50\n",
      "137/137 [==============================] - 76s 558ms/step - loss: 0.6761 - acc: 0.7644 - val_loss: 0.4654 - val_acc: 0.8004\n",
      "Epoch 7/50\n",
      "137/137 [==============================] - 77s 560ms/step - loss: 0.6642 - acc: 0.7672 - val_loss: 0.6220 - val_acc: 0.8013\n",
      "Epoch 8/50\n",
      "137/137 [==============================] - 77s 562ms/step - loss: 0.6453 - acc: 0.7762 - val_loss: 0.5343 - val_acc: 0.8087\n",
      "Epoch 9/50\n",
      "137/137 [==============================] - 76s 556ms/step - loss: 0.6347 - acc: 0.7809 - val_loss: 0.6393 - val_acc: 0.8107\n",
      "Epoch 10/50\n",
      "137/137 [==============================] - 77s 560ms/step - loss: 0.6275 - acc: 0.7807 - val_loss: 0.4621 - val_acc: 0.8128\n",
      "Epoch 11/50\n",
      "137/137 [==============================] - 77s 562ms/step - loss: 0.6082 - acc: 0.7873 - val_loss: 0.4512 - val_acc: 0.8102\n",
      "Epoch 12/50\n",
      "137/137 [==============================] - 76s 558ms/step - loss: 0.5990 - acc: 0.7916 - val_loss: 0.5738 - val_acc: 0.8149\n",
      "Epoch 13/50\n",
      "137/137 [==============================] - 76s 555ms/step - loss: 0.5872 - acc: 0.7957 - val_loss: 0.5555 - val_acc: 0.8160\n",
      "Epoch 14/50\n",
      "137/137 [==============================] - 76s 557ms/step - loss: 0.5747 - acc: 0.7974 - val_loss: 0.4771 - val_acc: 0.8241\n",
      "Epoch 15/50\n",
      "137/137 [==============================] - 77s 562ms/step - loss: 0.5724 - acc: 0.8005 - val_loss: 0.4622 - val_acc: 0.8213\n",
      "Epoch 16/50\n",
      "137/137 [==============================] - 78s 566ms/step - loss: 0.5602 - acc: 0.8025 - val_loss: 0.5334 - val_acc: 0.8243\n",
      "Epoch 17/50\n",
      "137/137 [==============================] - 77s 563ms/step - loss: 0.5530 - acc: 0.8058 - val_loss: 0.4683 - val_acc: 0.8307\n",
      "Epoch 18/50\n",
      "137/137 [==============================] - 78s 570ms/step - loss: 0.5433 - acc: 0.8087 - val_loss: 0.4525 - val_acc: 0.8297\n",
      "Epoch 19/50\n",
      "137/137 [==============================] - 77s 563ms/step - loss: 0.5374 - acc: 0.8113 - val_loss: 0.5182 - val_acc: 0.8311\n",
      "Epoch 20/50\n",
      "137/137 [==============================] - 78s 568ms/step - loss: 0.5270 - acc: 0.8150 - val_loss: 0.6091 - val_acc: 0.8306\n",
      "Epoch 21/50\n",
      "137/137 [==============================] - 78s 569ms/step - loss: 0.5218 - acc: 0.8173 - val_loss: 0.4838 - val_acc: 0.8329\n",
      "Epoch 22/50\n",
      "137/137 [==============================] - 78s 569ms/step - loss: 0.5163 - acc: 0.8199 - val_loss: 0.5587 - val_acc: 0.8325\n",
      "Epoch 23/50\n",
      "137/137 [==============================] - 77s 565ms/step - loss: 0.5085 - acc: 0.8238 - val_loss: 0.5076 - val_acc: 0.8393\n",
      "Epoch 24/50\n",
      "137/137 [==============================] - 79s 573ms/step - loss: 0.5018 - acc: 0.8228 - val_loss: 0.4293 - val_acc: 0.8382\n",
      "Epoch 25/50\n",
      "137/137 [==============================] - 79s 578ms/step - loss: 0.4993 - acc: 0.8255 - val_loss: 0.4067 - val_acc: 0.8359\n",
      "Epoch 26/50\n",
      "137/137 [==============================] - 79s 577ms/step - loss: 0.4837 - acc: 0.8300 - val_loss: 0.6631 - val_acc: 0.8402\n",
      "Epoch 27/50\n",
      "137/137 [==============================] - 79s 579ms/step - loss: 0.4860 - acc: 0.8289 - val_loss: 0.4822 - val_acc: 0.8394\n",
      "Epoch 28/50\n",
      "137/137 [==============================] - 80s 585ms/step - loss: 0.4777 - acc: 0.8312 - val_loss: 0.4911 - val_acc: 0.8415\n",
      "Epoch 29/50\n",
      "137/137 [==============================] - 79s 576ms/step - loss: 0.4672 - acc: 0.8334 - val_loss: 0.4097 - val_acc: 0.8429\n",
      "Epoch 30/50\n",
      "137/137 [==============================] - 80s 582ms/step - loss: 0.4633 - acc: 0.8369 - val_loss: 0.4545 - val_acc: 0.8399\n",
      "Epoch 31/50\n",
      "137/137 [==============================] - 80s 581ms/step - loss: 0.4633 - acc: 0.8366 - val_loss: 0.3345 - val_acc: 0.8433\n",
      "Epoch 32/50\n",
      "137/137 [==============================] - 78s 572ms/step - loss: 0.4590 - acc: 0.8381 - val_loss: 0.5182 - val_acc: 0.8465\n",
      "Epoch 33/50\n",
      "137/137 [==============================] - 78s 567ms/step - loss: 0.4478 - acc: 0.8405 - val_loss: 0.4870 - val_acc: 0.8455\n",
      "Epoch 34/50\n",
      "137/137 [==============================] - 79s 576ms/step - loss: 0.4396 - acc: 0.8461 - val_loss: 0.5134 - val_acc: 0.8463\n",
      "Epoch 35/50\n",
      "137/137 [==============================] - 78s 572ms/step - loss: 0.4340 - acc: 0.8474 - val_loss: 0.5494 - val_acc: 0.8481\n",
      "Epoch 36/50\n",
      "137/137 [==============================] - 78s 573ms/step - loss: 0.4304 - acc: 0.8454 - val_loss: 0.4676 - val_acc: 0.8507\n",
      "Epoch 37/50\n",
      "137/137 [==============================] - 79s 575ms/step - loss: 0.4255 - acc: 0.8512 - val_loss: 0.3002 - val_acc: 0.8478\n",
      "Epoch 38/50\n",
      "137/137 [==============================] - 79s 578ms/step - loss: 0.4243 - acc: 0.8484 - val_loss: 0.5107 - val_acc: 0.8448\n",
      "Epoch 39/50\n",
      "137/137 [==============================] - 79s 575ms/step - loss: 0.4183 - acc: 0.8525 - val_loss: 0.4831 - val_acc: 0.8531\n",
      "Epoch 40/50\n",
      "137/137 [==============================] - 80s 583ms/step - loss: 0.4185 - acc: 0.8510 - val_loss: 0.3898 - val_acc: 0.8513\n",
      "Epoch 41/50\n",
      "137/137 [==============================] - 79s 573ms/step - loss: 0.4133 - acc: 0.8543 - val_loss: 0.2555 - val_acc: 0.8521\n",
      "Epoch 42/50\n",
      "137/137 [==============================] - 78s 567ms/step - loss: 0.4079 - acc: 0.8565 - val_loss: 0.3815 - val_acc: 0.8530\n",
      "Epoch 43/50\n",
      "137/137 [==============================] - 78s 568ms/step - loss: 0.4007 - acc: 0.8583 - val_loss: 0.2921 - val_acc: 0.8519\n",
      "Epoch 44/50\n",
      "137/137 [==============================] - 78s 573ms/step - loss: 0.4023 - acc: 0.8588 - val_loss: 0.4196 - val_acc: 0.8485\n",
      "Epoch 45/50\n",
      "137/137 [==============================] - 78s 567ms/step - loss: 0.3862 - acc: 0.8627 - val_loss: 0.5170 - val_acc: 0.8535\n",
      "Epoch 46/50\n",
      "137/137 [==============================] - 78s 569ms/step - loss: 0.3915 - acc: 0.8619 - val_loss: 0.5378 - val_acc: 0.8545\n",
      "Epoch 47/50\n",
      "137/137 [==============================] - 79s 578ms/step - loss: 0.3825 - acc: 0.8649 - val_loss: 0.3514 - val_acc: 0.8585\n",
      "Epoch 48/50\n",
      "137/137 [==============================] - 79s 574ms/step - loss: 0.3836 - acc: 0.8640 - val_loss: 0.4933 - val_acc: 0.8571\n",
      "Epoch 49/50\n",
      "137/137 [==============================] - 78s 570ms/step - loss: 0.3813 - acc: 0.8647 - val_loss: 0.4131 - val_acc: 0.8586\n",
      "Epoch 50/50\n",
      "137/137 [==============================] - 79s 576ms/step - loss: 0.3716 - acc: 0.8693 - val_loss: 0.5050 - val_acc: 0.8552\n"
     ]
    }
   ],
   "source": [
    "history = model.fit_generator(generator=train_generator,\n",
    "                steps_per_epoch=len(train_generator),epochs=epoch,\n",
    "                validation_data=valid_generator,\n",
    "                validation_steps=len(valid_generator))"
   ]
  },
  {
   "cell_type": "code",
   "execution_count": 33,
   "metadata": {},
   "outputs": [
    {
     "data": {
      "image/png": "[encoded data removed]",
      "text/plain": [
       "<Figure size 432x288 with 1 Axes>"
      ]
     },
     "metadata": {
      "needs_background": "light"
     },
     "output_type": "display_data"
    },
    {
     "data": {
      "image/png": "[encoded data removed]",
      "text/plain": [
       "<Figure size 432x288 with 1 Axes>"
      ]
     },
     "metadata": {
      "needs_background": "light"
     },
     "output_type": "display_data"
    }
   ],
   "source": [
    "graph(history.history)"
   ]
  },
  {
   "cell_type": "code",
   "execution_count": 34,
   "metadata": {},
   "outputs": [],
   "source": [
    "loss,acc = model.evaluate_generator(test_generator,\n",
    "                            steps=len(test_generator))"
   ]
  },
  {
   "cell_type": "code",
   "execution_count": 35,
   "metadata": {},
   "outputs": [
    {
     "name": "stdout",
     "output_type": "stream",
     "text": [
      "Test Accuracy = 0.8458999991416931\n"
     ]
    }
   ],
   "source": [
    "print(\"Test Accuracy =\",acc)"
   ]
  }
 ],
 "metadata": {
  "kernelspec": {
   "display_name": "Python 3",
   "language": "python",
   "name": "python3"
  },
  "language_info": {
   "codemirror_mode": {
    "name": "ipython",
    "version": 3
   },
   "file_extension": ".py",
   "mimetype": "text/x-python",
   "name": "python",
   "nbconvert_exporter": "python",
   "pygments_lexer": "ipython3",
   "version": "3.6.8"
  }
 },
 "nbformat": 4,
 "nbformat_minor": 4
}
